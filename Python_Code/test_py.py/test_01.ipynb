{
 "cells": [
  {
   "cell_type": "code",
   "execution_count": 6,
   "metadata": {},
   "outputs": [
    {
     "name": "stdout",
     "output_type": "stream",
     "text": [
      "Hello Chris\n",
      "Hey Chris Chris\n",
      "My name is Chris\n"
     ]
    }
   ],
   "source": [
    "name = \"Chris\"\n",
    "a = f'Hello {name}'\n",
    "print(a)\n",
    "b = 'Hey %s %s' % (name, name)\n",
    "print(b)\n",
    "c =  \"My name is {}\".format((name))\n",
    "print(c)"
   ]
  },
  {
   "cell_type": "code",
   "execution_count": null,
   "metadata": {},
   "outputs": [],
   "source": [
    "def logging(func):\n",
    "    def log_function_called(func):\n",
    "        print(f'{func} called.')\n"
   ]
  },
  {
   "cell_type": "code",
   "execution_count": 7,
   "metadata": {},
   "outputs": [
    {
     "data": {
      "text/plain": [
       "'100mph'"
      ]
     },
     "execution_count": 7,
     "metadata": {},
     "output_type": "execute_result"
    }
   ],
   "source": [
    "class Car:\n",
    "    def __init__(self, color, speed):\n",
    "        self.color = color\n",
    "        self.speed = speed\n",
    "car = Car(\"red\", \"100mph\")\n",
    "car.speed"
   ]
  },
  {
   "cell_type": "code",
   "execution_count": null,
   "metadata": {},
   "outputs": [],
   "source": [
    "class CoffeeShop: \n",
    "    specialty = 'espresso' \n",
    "    def __init__(self, coffee_price):\n",
    "        self.coffee_price = coffee_price\n",
    "    # instance method\n",
    "    def make_coffee(self):\n",
    "        print(f'Making {self.specialty} for ${self.coffee_price}')\n",
    "    # static method\n",
    "    @staticmethod \n",
    "    def check_weather():\n",
    "        print('Its sunny') \n",
    "    # class method \n",
    "    @classmethod \n",
    "    def change_specialty(cls, specialty):\n",
    "        cls.specialty = specialtyprint(f'Specialty changed to {specialty}')"
   ]
  },
  {
   "cell_type": "code",
   "execution_count": 8,
   "metadata": {},
   "outputs": [
    {
     "name": "stdout",
     "output_type": "stream",
     "text": [
      "1.715742826461792\n"
     ]
    }
   ],
   "source": [
    "#串行执行\n",
    "import time\n",
    "\n",
    "def func1():\n",
    "    for i in range(10000000):\n",
    "        i+1\n",
    "\n",
    "def func2():\n",
    "    for i in range(10000000):\n",
    "        i+1\n",
    "\n",
    "start = time.time()\n",
    "func1()\n",
    "func2()\n",
    "stop = time.time()\n",
    "print(stop - start)"
   ]
  },
  {
   "cell_type": "code",
   "execution_count": 9,
   "metadata": {},
   "outputs": [
    {
     "name": "stdout",
     "output_type": "stream",
     "text": [
      "2.0850234031677246\n"
     ]
    }
   ],
   "source": [
    "import time\n",
    "def func1():\n",
    "    while True:\n",
    "        yield\n",
    "\n",
    "def func2():\n",
    "    g=func1()\n",
    "    for i in range(10000000):\n",
    "        i+1\n",
    "        print(g)\n",
    "        next(g)\n",
    "\n",
    "start=time.time()\n",
    "func2()\n",
    "stop=time.time()\n",
    "print(stop-start)"
   ]
  },
  {
   "cell_type": "code",
   "execution_count": 2,
   "metadata": {},
   "outputs": [
    {
     "name": "stdout",
     "output_type": "stream",
     "text": [
      "([1, 2, 2], 2)\n"
     ]
    }
   ],
   "source": [
    "a = [1]\n",
    "b = 2\n",
    "c = 1\n",
    "def fn(lis,obj):\n",
    "    print(b)\n",
    "    lis.append(b)\n",
    "    obj = obj + 1\n",
    "    return lis,obj\n",
    "fn(a,c)\n",
    "print(fn(a,c))"
   ]
  }
 ],
 "metadata": {
  "interpreter": {
   "hash": "2db524e06e9f5f4ffedc911c917cb75e12dbc923643829bf417064a77eb14d37"
  },
  "kernelspec": {
   "display_name": "Python 3.8.2 64-bit",
   "language": "python",
   "name": "python3"
  },
  "language_info": {
   "codemirror_mode": {
    "name": "ipython",
    "version": 3
   },
   "file_extension": ".py",
   "mimetype": "text/x-python",
   "name": "python",
   "nbconvert_exporter": "python",
   "pygments_lexer": "ipython3",
   "version": "3.8.2"
  },
  "orig_nbformat": 4
 },
 "nbformat": 4,
 "nbformat_minor": 2
}
