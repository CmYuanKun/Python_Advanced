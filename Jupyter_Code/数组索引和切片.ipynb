{
 "cells": [
  {
   "cell_type": "code",
   "execution_count": 4,
   "source": [
    "import numpy as np"
   ],
   "outputs": [],
   "metadata": {}
  },
  {
   "cell_type": "code",
   "execution_count": 58,
   "source": [
    "# 1.一维数组的索引和切片\r\n",
    "a1 = np.arange(10)\r\n",
    "# 1.1 进行索引操作\r\n",
    "print(a1[4])\r\n",
    "# 1.2 进行切片操作\r\n",
    "print(a1[4:5])\r\n",
    "# 1.3 使用步长\r\n",
    "print(a1[::2])\r\n",
    "# 1.4 使用负数来作为索引\r\n",
    "print(a1[-1])"
   ],
   "outputs": [
    {
     "output_type": "stream",
     "name": "stdout",
     "text": [
      "4\n",
      "[4]\n",
      "[0 2 4 6 8]\n",
      "9\n"
     ]
    }
   ],
   "metadata": {}
  },
  {
   "cell_type": "code",
   "execution_count": 6,
   "source": [
    "# 2. 多维数组\r\n",
    "# 也是通过中括号来索引和切片，在中括号中，使用逗号进行分割\r\n",
    "a2 = np.random.randint(0, 10, size=(4, 6))\r\n",
    "print(a2)"
   ],
   "outputs": [
    {
     "output_type": "stream",
     "name": "stdout",
     "text": [
      "[[2 0 0 5 7 8]\n",
      " [3 8 9 4 2 6]\n",
      " [8 1 3 7 7 5]\n",
      " [9 1 2 1 6 0]]\n"
     ]
    }
   ],
   "metadata": {}
  },
  {
   "cell_type": "code",
   "execution_count": 15,
   "source": [
    "print(a2[0])\r\n",
    "print(a2[1:3])\r\n",
    "print(a2[[0,2,3]])"
   ],
   "outputs": [
    {
     "output_type": "stream",
     "name": "stdout",
     "text": [
      "[2 0 0 5 7 8]\n",
      "[[3 8 9 4 2 6]\n",
      " [8 1 3 7 7 5]]\n",
      "[[2 0 0 5 7 8]\n",
      " [8 1 3 7 7 5]\n",
      " [9 1 2 1 6 0]]\n"
     ]
    }
   ],
   "metadata": {}
  },
  {
   "cell_type": "code",
   "execution_count": 20,
   "source": [
    "print(a2[2,1])\r\n",
    "print(a2[[1,2],[4,5]])\r\n",
    "print(a2[1:3,4:6])\r\n",
    "a2[:,1]"
   ],
   "outputs": [
    {
     "output_type": "stream",
     "name": "stdout",
     "text": [
      "1\n",
      "[2 5]\n",
      "[[2 6]\n",
      " [7 5]]\n"
     ]
    },
    {
     "output_type": "execute_result",
     "data": {
      "text/plain": [
       "array([0, 8, 1, 1])"
      ]
     },
     "metadata": {},
     "execution_count": 20
    }
   ],
   "metadata": {}
  },
  {
   "cell_type": "code",
   "execution_count": 21,
   "source": [
    "a2[:,[1,3]]"
   ],
   "outputs": [
    {
     "output_type": "execute_result",
     "data": {
      "text/plain": [
       "array([[0, 5],\n",
       "       [8, 4],\n",
       "       [1, 7],\n",
       "       [1, 1]])"
      ]
     },
     "metadata": {},
     "execution_count": 21
    }
   ],
   "metadata": {}
  },
  {
   "cell_type": "markdown",
   "source": [
    "#索引和切片总结:\r\n",
    "1. 如果数组是一维的，索引和切片就是跟python的列表一样的。\r\n",
    "2. 如果是多维的(都以二维为例)，那么在中括号中，给两个值，两个值是通过逗号分隔的，逗号前面及时行，\r\n",
    "逗号后边就是列。如果中括号只有一个值，那么就是代表的是行。\r\n",
    "3. 如果是多维数组，那么行的部分和列的部分，都是遵循一维数组的方式，可以使用整形，切片，还可以使用中括号的形式，来代表不连续的。比如a[[1,2],[3,4]]，那么返回的就是(1,3),(2,4)的两个值。"
   ],
   "metadata": {}
  },
  {
   "cell_type": "code",
   "execution_count": 60,
   "source": [
    "a2 = np.arange(24).reshape((4,6))\r\n",
    "print(a2)"
   ],
   "outputs": [
    {
     "output_type": "stream",
     "name": "stdout",
     "text": [
      "[[ 0  1  2  3  4  5]\n",
      " [ 6  7  8  9 10 11]\n",
      " [12 13 14 15 16 17]\n",
      " [18 19 20 21 22 23]]\n"
     ]
    }
   ],
   "metadata": {}
  },
  {
   "cell_type": "code",
   "execution_count": 61,
   "source": [
    "a2<10"
   ],
   "outputs": [
    {
     "output_type": "execute_result",
     "data": {
      "text/plain": [
       "array([[ True,  True,  True,  True,  True,  True],\n",
       "       [ True,  True,  True,  True, False, False],\n",
       "       [False, False, False, False, False, False],\n",
       "       [False, False, False, False, False, False]])"
      ]
     },
     "metadata": {},
     "execution_count": 61
    }
   ],
   "metadata": {}
  },
  {
   "cell_type": "code",
   "execution_count": 62,
   "source": [
    "a2[a2<10]"
   ],
   "outputs": [
    {
     "output_type": "execute_result",
     "data": {
      "text/plain": [
       "array([0, 1, 2, 3, 4, 5, 6, 7, 8, 9])"
      ]
     },
     "metadata": {},
     "execution_count": 62
    }
   ],
   "metadata": {}
  },
  {
   "cell_type": "code",
   "execution_count": 63,
   "source": [
    "a2[a2>10]"
   ],
   "outputs": [
    {
     "output_type": "execute_result",
     "data": {
      "text/plain": [
       "array([11, 12, 13, 14, 15, 16, 17, 18, 19, 20, 21, 22, 23])"
      ]
     },
     "metadata": {},
     "execution_count": 63
    }
   ],
   "metadata": {}
  },
  {
   "cell_type": "code",
   "execution_count": 64,
   "source": [
    "a2[(a2<15) | (a2>10)]"
   ],
   "outputs": [
    {
     "output_type": "execute_result",
     "data": {
      "text/plain": [
       "array([ 0,  1,  2,  3,  4,  5,  6,  7,  8,  9, 10, 11, 12, 13, 14, 15, 16,\n",
       "       17, 18, 19, 20, 21, 22, 23])"
      ]
     },
     "metadata": {},
     "execution_count": 64
    }
   ],
   "metadata": {}
  },
  {
   "cell_type": "markdown",
   "source": [
    "#布尔索引总结:\r\n",
    "1. 布尔索引是通过相同数组上的Ture还是False来进行提取的，提取的条件可以有多个，那么如果有多个，可以使用&\r\n",
    "来代表且，如果有对个条件，那么每个条件要使用圆括号括起来。"
   ],
   "metadata": {}
  }
 ],
 "metadata": {
  "orig_nbformat": 4,
  "language_info": {
   "name": "python",
   "version": "3.8.2",
   "mimetype": "text/x-python",
   "codemirror_mode": {
    "name": "ipython",
    "version": 3
   },
   "pygments_lexer": "ipython3",
   "nbconvert_exporter": "python",
   "file_extension": ".py"
  },
  "kernelspec": {
   "name": "python3",
   "display_name": "Python 3.8.2 64-bit"
  },
  "interpreter": {
   "hash": "2db524e06e9f5f4ffedc911c917cb75e12dbc923643829bf417064a77eb14d37"
  }
 },
 "nbformat": 4,
 "nbformat_minor": 2
}