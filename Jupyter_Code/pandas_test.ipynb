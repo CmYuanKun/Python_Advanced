{
 "cells": [
  {
   "cell_type": "code",
   "execution_count": 1,
   "id": "4e5882fe-3b74-4fbf-a669-1640728d7878",
   "metadata": {},
   "outputs": [
    {
     "data": {
      "text/plain": [
       "0    0\n",
       "1    1\n",
       "2    2\n",
       "3    3\n",
       "4    4\n",
       "5    5\n",
       "6    6\n",
       "7    7\n",
       "8    8\n",
       "9    9\n",
       "dtype: int32"
      ]
     },
     "execution_count": 1,
     "metadata": {},
     "output_type": "execute_result"
    }
   ],
   "source": [
    "import pandas as pd\n",
    "import numpy as np\n",
    "pd.Series(np.arange(10))"
   ]
  },
  {
   "cell_type": "code",
   "execution_count": 2,
   "id": "72b5c593-71b8-41b7-ba7b-f1f111af3970",
   "metadata": {
    "tags": []
   },
   "outputs": [
    {
     "data": {
      "text/plain": [
       "1    6.7\n",
       "2    3.0\n",
       "3    4.0\n",
       "4    5.0\n",
       "5    6.0\n",
       "dtype: float64"
      ]
     },
     "execution_count": 2,
     "metadata": {},
     "output_type": "execute_result"
    }
   ],
   "source": [
    "import pandas as pd\n",
    "import numpy as np\n",
    "pd.Series([6.7,3,4,5,6], index=[1,2,3,4,5])"
   ]
  },
  {
   "cell_type": "code",
   "execution_count": 3,
   "id": "dd8b7377-2b75-47c5-8c9c-493a51063a69",
   "metadata": {},
   "outputs": [
    {
     "data": {
      "text/plain": [
       "500"
      ]
     },
     "execution_count": 3,
     "metadata": {},
     "output_type": "execute_result"
    }
   ],
   "source": [
    "import pandas as pd\n",
    "import numpy as np\n",
    "dict_color = {\"red\":100, \"blue\":200, \"green\": 500, \"yellow\":1000}\n",
    "color_count = pd.Series(dict_color)\n",
    "color_count.index\n",
    "color_count.values\n",
    "color_count[2]"
   ]
  },
  {
   "cell_type": "code",
   "execution_count": 4,
   "id": "0ac0691e-5fe1-45b7-b5b5-9ed6ad4b5253",
   "metadata": {},
   "outputs": [
    {
     "name": "stdout",
     "output_type": "stream",
     "text": [
      "[[-1.04961567 -0.12116651  1.60532823]\n",
      " [-0.7136349   1.45720214 -0.60050348]]\n"
     ]
    },
    {
     "data": {
      "text/html": [
       "<div>\n",
       "<style scoped>\n",
       "    .dataframe tbody tr th:only-of-type {\n",
       "        vertical-align: middle;\n",
       "    }\n",
       "\n",
       "    .dataframe tbody tr th {\n",
       "        vertical-align: top;\n",
       "    }\n",
       "\n",
       "    .dataframe thead th {\n",
       "        text-align: right;\n",
       "    }\n",
       "</style>\n",
       "<table border=\"1\" class=\"dataframe\">\n",
       "  <thead>\n",
       "    <tr style=\"text-align: right;\">\n",
       "      <th></th>\n",
       "      <th>0</th>\n",
       "      <th>1</th>\n",
       "      <th>2</th>\n",
       "    </tr>\n",
       "  </thead>\n",
       "  <tbody>\n",
       "    <tr>\n",
       "      <th>0</th>\n",
       "      <td>0.115270</td>\n",
       "      <td>1.494038</td>\n",
       "      <td>1.674578</td>\n",
       "    </tr>\n",
       "    <tr>\n",
       "      <th>1</th>\n",
       "      <td>-0.458095</td>\n",
       "      <td>0.404251</td>\n",
       "      <td>0.722591</td>\n",
       "    </tr>\n",
       "  </tbody>\n",
       "</table>\n",
       "</div>"
      ],
      "text/plain": [
       "          0         1         2\n",
       "0  0.115270  1.494038  1.674578\n",
       "1 -0.458095  0.404251  0.722591"
      ]
     },
     "execution_count": 4,
     "metadata": {},
     "output_type": "execute_result"
    }
   ],
   "source": [
    "import pandas as pd\n",
    "import numpy as np\n",
    "\n",
    "print(np.random.randn(2,3))\n",
    "pd.DataFrame(np.random.randn(2,3))\n"
   ]
  },
  {
   "cell_type": "code",
   "execution_count": 15,
   "id": "7d424e4a-6369-4d53-85f3-6c5ad32d0191",
   "metadata": {},
   "outputs": [
    {
     "name": "stdout",
     "output_type": "stream",
     "text": [
      "[[53 92 70 98 64]\n",
      " [78 47 84 91 91]\n",
      " [94 86 74 89 42]\n",
      " [80 53 72 86 87]\n",
      " [62 77 54 95 75]\n",
      " [81 88 77 75 77]\n",
      " [66 95 76 81 69]\n",
      " [57 51 40 63 46]\n",
      " [59 77 87 93 58]\n",
      " [53 53 98 66 58]]\n",
      "    0   1   2   3   4\n",
      "0  53  92  70  98  64\n",
      "1  78  47  84  91  91\n",
      "2  94  86  74  89  42\n",
      "3  80  53  72  86  87\n",
      "4  62  77  54  95  75\n",
      "5  81  88  77  75  77\n",
      "6  66  95  76  81  69\n",
      "7  57  51  40  63  46\n",
      "8  59  77  87  93  58\n",
      "9  53  53  98  66  58\n",
      "10\n"
     ]
    },
    {
     "data": {
      "text/plain": [
       "(10, 5)"
      ]
     },
     "execution_count": 15,
     "metadata": {},
     "output_type": "execute_result"
    }
   ],
   "source": [
    "import pandas as pd\n",
    "import numpy as np\n",
    "\n",
    "score = np.random.randint(40, 100, (10, 5))\n",
    "print(score)\n",
    "score_df = pd.DataFrame(score)\n",
    "print(score_df)\n",
    "subjects = [\"语文\", \"数学\", \"英语\", \"政治\", \"体育\"]\n",
    "print(score_df.shape[0])\n",
    "stu = [\"同学\" + str(i) for i in range(score_df.shape[0])]\n",
    "data = pd.DataFrame(score, columns=subjects, index=stu)\n",
    "data.shape\n"
   ]
  },
  {
   "cell_type": "code",
   "execution_count": 3,
   "id": "5be8b8b7-db0f-48e9-921f-911c21c9cf7f",
   "metadata": {},
   "outputs": [],
   "source": [
    "import pandas as np"
   ]
  },
  {
   "cell_type": "code",
   "execution_count": 4,
   "id": "d92c314b-594b-4a01-8839-002188500297",
   "metadata": {},
   "outputs": [
    {
     "ename": "NameError",
     "evalue": "name 'al' is not defined",
     "output_type": "error",
     "traceback": [
      "\u001b[1;31m---------------------------------------------------------------------------\u001b[0m",
      "\u001b[1;31mNameError\u001b[0m                                 Traceback (most recent call last)",
      "\u001b[1;32m~\\AppData\\Local\\Temp/ipykernel_7336/308376385.py\u001b[0m in \u001b[0;36m<module>\u001b[1;34m\u001b[0m\n\u001b[0;32m      1\u001b[0m \u001b[0ma1\u001b[0m \u001b[1;33m=\u001b[0m \u001b[0mnp\u001b[0m\u001b[1;33m.\u001b[0m\u001b[0marray\u001b[0m\u001b[1;33m(\u001b[0m\u001b[1;33m[\u001b[0m\u001b[1;36m1\u001b[0m\u001b[1;33m,\u001b[0m\u001b[1;36m2\u001b[0m\u001b[1;33m,\u001b[0m\u001b[1;36m3\u001b[0m\u001b[1;33m]\u001b[0m\u001b[1;33m)\u001b[0m\u001b[1;33m\u001b[0m\u001b[1;33m\u001b[0m\u001b[0m\n\u001b[1;32m----> 2\u001b[1;33m \u001b[0mprint\u001b[0m\u001b[1;33m(\u001b[0m\u001b[0mal\u001b[0m\u001b[1;33m.\u001b[0m\u001b[0mndim\u001b[0m\u001b[1;33m)\u001b[0m\u001b[1;33m\u001b[0m\u001b[1;33m\u001b[0m\u001b[0m\n\u001b[0m",
      "\u001b[1;31mNameError\u001b[0m: name 'al' is not defined"
     ]
    }
   ],
   "source": [
    "a1 = np.array([1,2,3])\n",
    "print(al.ndim)"
   ]
  },
  {
   "cell_type": "code",
   "execution_count": null,
   "id": "ffcc9494-9136-44f6-9c82-c367ffcadefa",
   "metadata": {},
   "outputs": [],
   "source": []
  }
 ],
 "metadata": {
  "kernelspec": {
   "display_name": "Python 3 (ipykernel)",
   "language": "python",
   "name": "python3"
  },
  "language_info": {
   "codemirror_mode": {
    "name": "ipython",
    "version": 3
   },
   "file_extension": ".py",
   "mimetype": "text/x-python",
   "name": "python",
   "nbconvert_exporter": "python",
   "pygments_lexer": "ipython3",
   "version": "3.8.2"
  },
  "toc-autonumbering": true,
  "toc-showcode": true,
  "toc-showmarkdowntxt": true,
  "toc-showtags": true
 },
 "nbformat": 4,
 "nbformat_minor": 5
}
