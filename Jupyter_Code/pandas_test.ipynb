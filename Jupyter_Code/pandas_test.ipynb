{
 "cells": [
  {
   "cell_type": "code",
   "execution_count": null,
   "source": [
    "import pandas as pd\r\n",
    "import numpy as np\r\n",
    "pd.Series(np.arange(10))"
   ],
   "outputs": [],
   "metadata": {}
  },
  {
   "cell_type": "code",
   "execution_count": null,
   "source": [
    "import pandas as pd\r\n",
    "import numpy as np\r\n",
    "pd.Series([6.7,3,4,5,6], index=[1,2,3,4,5])"
   ],
   "outputs": [],
   "metadata": {
    "tags": []
   }
  },
  {
   "cell_type": "code",
   "execution_count": null,
   "source": [
    "import pandas as pd\r\n",
    "import numpy as np\r\n",
    "dict_color = {\"red\":100, \"blue\":200, \"green\": 500, \"yellow\":1000}\r\n",
    "color_count = pd.Series(dict_color)\r\n",
    "color_count.index\r\n",
    "color_count.values\r\n",
    "color_count[2]"
   ],
   "outputs": [],
   "metadata": {}
  },
  {
   "cell_type": "code",
   "execution_count": null,
   "source": [
    "import pandas as pd\r\n",
    "import numpy as np\r\n",
    "\r\n",
    "print(np.random.randn(2,3))\r\n",
    "pd.DataFrame(np.random.randn(2,3))\r\n"
   ],
   "outputs": [],
   "metadata": {}
  },
  {
   "cell_type": "code",
   "execution_count": null,
   "source": [
    "import pandas as pd\r\n",
    "import numpy as np\r\n",
    "\r\n",
    "score = np.random.randint(40, 100, (10, 5))\r\n",
    "print(score)\r\n",
    "score_df = pd.DataFrame(score)\r\n",
    "print(score_df)\r\n",
    "subjects = [\"语文\", \"数学\", \"英语\", \"政治\", \"体育\"]\r\n",
    "print(score_df.shape[0])\r\n",
    "stu = [\"同学\" + str(i) for i in range(score_df.shape[0])]\r\n",
    "data = pd.DataFrame(score, columns=subjects, index=stu)\r\n",
    "data.shape\r\n"
   ],
   "outputs": [],
   "metadata": {}
  }
 ],
 "metadata": {
  "kernelspec": {
   "name": "python3",
   "display_name": "Python 3.8.2 64-bit"
  },
  "language_info": {
   "codemirror_mode": {
    "name": "ipython",
    "version": 3
   },
   "file_extension": ".py",
   "mimetype": "text/x-python",
   "name": "python",
   "nbconvert_exporter": "python",
   "pygments_lexer": "ipython3",
   "version": "3.8.2"
  },
  "toc-autonumbering": true,
  "toc-showcode": true,
  "toc-showmarkdowntxt": true,
  "toc-showtags": true,
  "interpreter": {
   "hash": "2db524e06e9f5f4ffedc911c917cb75e12dbc923643829bf417064a77eb14d37"
  }
 },
 "nbformat": 4,
 "nbformat_minor": 5
}